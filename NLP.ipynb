{
  "nbformat": 4,
  "nbformat_minor": 0,
  "metadata": {
    "colab": {
      "provenance": [],
      "authorship_tag": "ABX9TyOInF4b03eEPaOteKqMZ/wZ",
      "include_colab_link": true
    },
    "kernelspec": {
      "name": "python3",
      "display_name": "Python 3"
    },
    "language_info": {
      "name": "python"
    }
  },
  "cells": [
    {
      "cell_type": "markdown",
      "metadata": {
        "id": "view-in-github",
        "colab_type": "text"
      },
      "source": [
        "<a href=\"https://colab.research.google.com/github/HeselGharehbaei/Trello/blob/master/NLP.ipynb\" target=\"_parent\"><img src=\"https://colab.research.google.com/assets/colab-badge.svg\" alt=\"Open In Colab\"/></a>"
      ]
    },
    {
      "cell_type": "code",
      "execution_count": 6,
      "metadata": {
        "colab": {
          "base_uri": "https://localhost:8080/"
        },
        "id": "kAcMPAX69GGP",
        "outputId": "fbef4fa0-6005-4aa4-ddd0-b9ff6acfd3c6"
      },
      "outputs": [
        {
          "output_type": "stream",
          "name": "stderr",
          "text": [
            "[nltk_data] Downloading package punkt to /root/nltk_data...\n",
            "[nltk_data]   Unzipping tokenizers/punkt.zip.\n"
          ]
        },
        {
          "output_type": "execute_result",
          "data": {
            "text/plain": [
              "True"
            ]
          },
          "metadata": {},
          "execution_count": 6
        }
      ],
      "source": [
        "import nltk\n",
        "nltk.download('punkt')"
      ]
    },
    {
      "cell_type": "code",
      "source": [
        "paragraph = \"\"\" In 1957, a blind man with perfect pitch, Joe Engressia, found that if he whistled the fourth E above middle C, he could stop a dialed phone recording. A few years later, after meeting Engressia, John Draper realized that a toy whistle distributed in Captain Crunch cereal boxes could make the same pitch and others that gained access to the phone system.\n",
        "\n",
        "Their findings started a small, underground club called the Phone Phreaks, and soon they needed to find a better tool to make the sounds. This is when Draper invented the blue box, an electronic device that could make a specific set of tones that matched the tones of the phone company used to direct calls.\n",
        "\n",
        "By using this tool Phone Phreaks could make calls all around the world and access areas of the phone system previously only available to the phone company. Soon, their technology spread around the world and they held conference calls deep inside the phone system where they could talk to others with the same interest.\n",
        "\n",
        "This was like a precursor to chat rooms and forums, such as Reddit and Quora, and even to an extent the dark web.\n",
        "\n",
        "In 1971, Ron Rosenbaum published an article in Esquire depicting the entire process and names. Once the article was published, many more people around the country tried gaming the system in the same way and caused a backlash to the Phone Phreaks. Soon, possession of a Blue Box could get you two years in jail.\n",
        "\n",
        "A year later, Captain Crunch was indicted and served four months in jail. \"\"\""
      ],
      "metadata": {
        "id": "2QPCrFm39Vc1"
      },
      "execution_count": 12,
      "outputs": []
    },
    {
      "cell_type": "code",
      "source": [
        "# Tokenizing sentences\n",
        "sentences = nltk.sent_tokenize(paragraph)\n",
        "sentences"
      ],
      "metadata": {
        "colab": {
          "base_uri": "https://localhost:8080/"
        },
        "id": "daWaBzXPBYO_",
        "outputId": "fb3dc0f9-fa63-410a-c803-5b678c24649c"
      },
      "execution_count": 17,
      "outputs": [
        {
          "output_type": "execute_result",
          "data": {
            "text/plain": [
              "[' In 1957, a blind man with perfect pitch, Joe Engressia, found that if he whistled the fourth E above middle C, he could stop a dialed phone recording.',\n",
              " 'A few years later, after meeting Engressia, John Draper realized that a toy whistle distributed in Captain Crunch cereal boxes could make the same pitch and others that gained access to the phone system.',\n",
              " 'Their findings started a small, underground club called the Phone Phreaks, and soon they needed to find a better tool to make the sounds.',\n",
              " 'This is when Draper invented the blue box, an electronic device that could make a specific set of tones that matched the tones of the phone company used to direct calls.',\n",
              " 'By using this tool Phone Phreaks could make calls all around the world and access areas of the phone system previously only available to the phone company.',\n",
              " 'Soon, their technology spread around the world and they held conference calls deep inside the phone system where they could talk to others with the same interest.',\n",
              " 'This was like a precursor to chat rooms and forums, such as Reddit and Quora, and even to an extent the dark web.',\n",
              " 'In 1971, Ron Rosenbaum published an article in Esquire depicting the entire process and names.',\n",
              " 'Once the article was published, many more people around the country tried gaming the system in the same way and caused a backlash to the Phone Phreaks.',\n",
              " 'Soon, possession of a Blue Box could get you two years in jail.',\n",
              " 'A year later, Captain Crunch was indicted and served four months in jail.']"
            ]
          },
          "metadata": {},
          "execution_count": 17
        }
      ]
    },
    {
      "cell_type": "code",
      "source": [
        "# tokenizing word\n",
        "words = nltk.word_tokenize(paragraph)\n",
        "words"
      ],
      "metadata": {
        "colab": {
          "base_uri": "https://localhost:8080/"
        },
        "id": "S6SDFPskChBt",
        "outputId": "0f93a2cd-f7cf-4c0c-b3e3-d33786bef042"
      },
      "execution_count": 15,
      "outputs": [
        {
          "output_type": "execute_result",
          "data": {
            "text/plain": [
              "['In',\n",
              " '1957',\n",
              " ',',\n",
              " 'a',\n",
              " 'blind',\n",
              " 'man',\n",
              " 'with',\n",
              " 'perfect',\n",
              " 'pitch',\n",
              " ',',\n",
              " 'Joe',\n",
              " 'Engressia',\n",
              " ',',\n",
              " 'found',\n",
              " 'that',\n",
              " 'if',\n",
              " 'he',\n",
              " 'whistled',\n",
              " 'the',\n",
              " 'fourth',\n",
              " 'E',\n",
              " 'above',\n",
              " 'middle',\n",
              " 'C',\n",
              " ',',\n",
              " 'he',\n",
              " 'could',\n",
              " 'stop',\n",
              " 'a',\n",
              " 'dialed',\n",
              " 'phone',\n",
              " 'recording',\n",
              " '.',\n",
              " 'A',\n",
              " 'few',\n",
              " 'years',\n",
              " 'later',\n",
              " ',',\n",
              " 'after',\n",
              " 'meeting',\n",
              " 'Engressia',\n",
              " ',',\n",
              " 'John',\n",
              " 'Draper',\n",
              " 'realized',\n",
              " 'that',\n",
              " 'a',\n",
              " 'toy',\n",
              " 'whistle',\n",
              " 'distributed',\n",
              " 'in',\n",
              " 'Captain',\n",
              " 'Crunch',\n",
              " 'cereal',\n",
              " 'boxes',\n",
              " 'could',\n",
              " 'make',\n",
              " 'the',\n",
              " 'same',\n",
              " 'pitch',\n",
              " 'and',\n",
              " 'others',\n",
              " 'that',\n",
              " 'gained',\n",
              " 'access',\n",
              " 'to',\n",
              " 'the',\n",
              " 'phone',\n",
              " 'system',\n",
              " '.',\n",
              " 'Their',\n",
              " 'findings',\n",
              " 'started',\n",
              " 'a',\n",
              " 'small',\n",
              " ',',\n",
              " 'underground',\n",
              " 'club',\n",
              " 'called',\n",
              " 'the',\n",
              " 'Phone',\n",
              " 'Phreaks',\n",
              " ',',\n",
              " 'and',\n",
              " 'soon',\n",
              " 'they',\n",
              " 'needed',\n",
              " 'to',\n",
              " 'find',\n",
              " 'a',\n",
              " 'better',\n",
              " 'tool',\n",
              " 'to',\n",
              " 'make',\n",
              " 'the',\n",
              " 'sounds',\n",
              " '.',\n",
              " 'This',\n",
              " 'is',\n",
              " 'when',\n",
              " 'Draper',\n",
              " 'invented',\n",
              " 'the',\n",
              " 'blue',\n",
              " 'box',\n",
              " ',',\n",
              " 'an',\n",
              " 'electronic',\n",
              " 'device',\n",
              " 'that',\n",
              " 'could',\n",
              " 'make',\n",
              " 'a',\n",
              " 'specific',\n",
              " 'set',\n",
              " 'of',\n",
              " 'tones',\n",
              " 'that',\n",
              " 'matched',\n",
              " 'the',\n",
              " 'tones',\n",
              " 'of',\n",
              " 'the',\n",
              " 'phone',\n",
              " 'company',\n",
              " 'used',\n",
              " 'to',\n",
              " 'direct',\n",
              " 'calls',\n",
              " '.',\n",
              " 'By',\n",
              " 'using',\n",
              " 'this',\n",
              " 'tool',\n",
              " 'Phone',\n",
              " 'Phreaks',\n",
              " 'could',\n",
              " 'make',\n",
              " 'calls',\n",
              " 'all',\n",
              " 'around',\n",
              " 'the',\n",
              " 'world',\n",
              " 'and',\n",
              " 'access',\n",
              " 'areas',\n",
              " 'of',\n",
              " 'the',\n",
              " 'phone',\n",
              " 'system',\n",
              " 'previously',\n",
              " 'only',\n",
              " 'available',\n",
              " 'to',\n",
              " 'the',\n",
              " 'phone',\n",
              " 'company',\n",
              " '.',\n",
              " 'Soon',\n",
              " ',',\n",
              " 'their',\n",
              " 'technology',\n",
              " 'spread',\n",
              " 'around',\n",
              " 'the',\n",
              " 'world',\n",
              " 'and',\n",
              " 'they',\n",
              " 'held',\n",
              " 'conference',\n",
              " 'calls',\n",
              " 'deep',\n",
              " 'inside',\n",
              " 'the',\n",
              " 'phone',\n",
              " 'system',\n",
              " 'where',\n",
              " 'they',\n",
              " 'could',\n",
              " 'talk',\n",
              " 'to',\n",
              " 'others',\n",
              " 'with',\n",
              " 'the',\n",
              " 'same',\n",
              " 'interest',\n",
              " '.',\n",
              " 'This',\n",
              " 'was',\n",
              " 'like',\n",
              " 'a',\n",
              " 'precursor',\n",
              " 'to',\n",
              " 'chat',\n",
              " 'rooms',\n",
              " 'and',\n",
              " 'forums',\n",
              " ',',\n",
              " 'such',\n",
              " 'as',\n",
              " 'Reddit',\n",
              " 'and',\n",
              " 'Quora',\n",
              " ',',\n",
              " 'and',\n",
              " 'even',\n",
              " 'to',\n",
              " 'an',\n",
              " 'extent',\n",
              " 'the',\n",
              " 'dark',\n",
              " 'web',\n",
              " '.',\n",
              " 'In',\n",
              " '1971',\n",
              " ',',\n",
              " 'Ron',\n",
              " 'Rosenbaum',\n",
              " 'published',\n",
              " 'an',\n",
              " 'article',\n",
              " 'in',\n",
              " 'Esquire',\n",
              " 'depicting',\n",
              " 'the',\n",
              " 'entire',\n",
              " 'process',\n",
              " 'and',\n",
              " 'names',\n",
              " '.',\n",
              " 'Once',\n",
              " 'the',\n",
              " 'article',\n",
              " 'was',\n",
              " 'published',\n",
              " ',',\n",
              " 'many',\n",
              " 'more',\n",
              " 'people',\n",
              " 'around',\n",
              " 'the',\n",
              " 'country',\n",
              " 'tried',\n",
              " 'gaming',\n",
              " 'the',\n",
              " 'system',\n",
              " 'in',\n",
              " 'the',\n",
              " 'same',\n",
              " 'way',\n",
              " 'and',\n",
              " 'caused',\n",
              " 'a',\n",
              " 'backlash',\n",
              " 'to',\n",
              " 'the',\n",
              " 'Phone',\n",
              " 'Phreaks',\n",
              " '.',\n",
              " 'Soon',\n",
              " ',',\n",
              " 'possession',\n",
              " 'of',\n",
              " 'a',\n",
              " 'Blue',\n",
              " 'Box',\n",
              " 'could',\n",
              " 'get',\n",
              " 'you',\n",
              " 'two',\n",
              " 'years',\n",
              " 'in',\n",
              " 'jail',\n",
              " '.',\n",
              " 'A',\n",
              " 'year',\n",
              " 'later',\n",
              " ',',\n",
              " 'Captain',\n",
              " 'Crunch',\n",
              " 'was',\n",
              " 'indicted',\n",
              " 'and',\n",
              " 'served',\n",
              " 'four',\n",
              " 'months',\n",
              " 'in',\n",
              " 'jail',\n",
              " '.']"
            ]
          },
          "metadata": {},
          "execution_count": 15
        }
      ]
    },
    {
      "cell_type": "code",
      "source": [
        "from nltk.stem import PorterStemmer\n",
        "from nltk.corpus import stopwords\n",
        "nltk.download('stopwords')"
      ],
      "metadata": {
        "colab": {
          "base_uri": "https://localhost:8080/"
        },
        "id": "4VQRJe8vDM1F",
        "outputId": "8da47cbc-3a2b-400a-bc5f-80003b3b86c2"
      },
      "execution_count": 7,
      "outputs": [
        {
          "output_type": "stream",
          "name": "stderr",
          "text": [
            "[nltk_data] Downloading package stopwords to /root/nltk_data...\n",
            "[nltk_data]   Unzipping corpora/stopwords.zip.\n"
          ]
        },
        {
          "output_type": "execute_result",
          "data": {
            "text/plain": [
              "True"
            ]
          },
          "metadata": {},
          "execution_count": 7
        }
      ]
    },
    {
      "cell_type": "code",
      "source": [
        "stemmer = PorterStemmer()\n",
        "\n",
        "# stemming\n",
        "for i in range(len(sentences)):\n",
        "    words =nltk.word_tokenize(sentences[i])\n",
        "    words =[stemmer.stem(word) for word in words if word not in set(stopwords.words('english'))]\n",
        "    sentences[i] = ''.join(words)"
      ],
      "metadata": {
        "id": "huUtp3eWEKel"
      },
      "execution_count": 18,
      "outputs": []
    },
    {
      "cell_type": "code",
      "source": [
        "sentences[1]"
      ],
      "metadata": {
        "colab": {
          "base_uri": "https://localhost:8080/",
          "height": 53
        },
        "id": "nK4RHFygHTUM",
        "outputId": "18c0397d-205a-4af7-b23d-587575e5a8bf"
      },
      "execution_count": 20,
      "outputs": [
        {
          "output_type": "execute_result",
          "data": {
            "text/plain": [
              "'ayearlater,meetengressia,johndraperrealiztoywhistldistributcaptaincrunchcerealboxcouldmakepitchothergainaccessphonesystem.'"
            ],
            "application/vnd.google.colaboratory.intrinsic+json": {
              "type": "string"
            }
          },
          "metadata": {},
          "execution_count": 20
        }
      ]
    },
    {
      "cell_type": "code",
      "source": [
        "from nltk.stem import WordNetLemmatizer\n",
        "nltk.download('wordnet')"
      ],
      "metadata": {
        "colab": {
          "base_uri": "https://localhost:8080/"
        },
        "id": "4zCQFG-UIG0k",
        "outputId": "84b0c24e-381c-491d-a6f5-46e8e63c08a7"
      },
      "execution_count": 26,
      "outputs": [
        {
          "output_type": "stream",
          "name": "stderr",
          "text": [
            "[nltk_data] Downloading package wordnet to /root/nltk_data...\n",
            "[nltk_data]   Package wordnet is already up-to-date!\n"
          ]
        },
        {
          "output_type": "execute_result",
          "data": {
            "text/plain": [
              "True"
            ]
          },
          "metadata": {},
          "execution_count": 26
        }
      ]
    },
    {
      "cell_type": "code",
      "source": [
        "lemmatizer = WordNetLemmatizer()\n",
        "\n",
        "sentencess = nltk.sent_tokenize(paragraph)\n",
        "\n",
        "# lemmatization\n",
        "for i in range(len(sentencess)):\n",
        "  words = nltk.word_tokenize(sentencess[i])\n",
        "  words = [lemmatizer.lemmatize(word) for word in words if word not in set(stopwords.words('english'))]\n",
        "  sentences[i] = \"\".join(words)"
      ],
      "metadata": {
        "id": "69ZHhK1wKmTx"
      },
      "execution_count": 23,
      "outputs": []
    },
    {
      "cell_type": "code",
      "source": [
        "sentences[1]"
      ],
      "metadata": {
        "colab": {
          "base_uri": "https://localhost:8080/",
          "height": 53
        },
        "id": "JpvHggIuOSjO",
        "outputId": "b1479817-39de-4d20-84e9-8257501ca7ca"
      },
      "execution_count": 24,
      "outputs": [
        {
          "output_type": "execute_result",
          "data": {
            "text/plain": [
              "'Ayearlater,meetingEngressia,JohnDraperrealizedtoywhistledistributedCaptainCrunchcerealboxcouldmakepitchothersgainedaccessphonesystem.'"
            ],
            "application/vnd.google.colaboratory.intrinsic+json": {
              "type": "string"
            }
          },
          "metadata": {},
          "execution_count": 24
        }
      ]
    },
    {
      "cell_type": "code",
      "source": [
        "# cleaning the texts\n",
        "\n",
        "import re\n",
        "from nltk.corpus import stopwords\n",
        "from nltk.stem.porter import PorterStemmer\n",
        "from nltk.stem import WordNetLemmatizer\n",
        "\n",
        "\n",
        "ps = PorterStemmer()\n",
        "wordnet= WordNetLemmatizer()\n",
        "sentences = nltk.sent_tokenize(paragraph)\n",
        "corpus = []\n",
        "for i in range(len(sentences)):\n",
        "  review = re.sub('[^a-zA-Z]', '', sentences[i])\n",
        "  review = review.lower()\n",
        "  review = review.split()\n",
        "  review = [ps.stem(word) for word in review if not word in set(stopwords.words('english'))]\n",
        "  review = ''.join(review)\n",
        "  corpus.append(review)\n",
        "\n",
        "\n",
        "#creating teh bag of words model\n",
        "from sklearn.feature_extraction.text import CountVectorizer\n",
        "cv = CountVectorizer(max_features = 1500)\n",
        "x = cv.fit_transform"
      ],
      "metadata": {
        "id": "MUR04BntOfET"
      },
      "execution_count": 29,
      "outputs": []
    },
    {
      "cell_type": "code",
      "source": [
        "x"
      ],
      "metadata": {
        "colab": {
          "base_uri": "https://localhost:8080/",
          "height": 186
        },
        "id": "Q9lYOBgUQo7C",
        "outputId": "3ac46ec3-1c26-4231-9d95-6bd8f67a0e03"
      },
      "execution_count": 32,
      "outputs": [
        {
          "output_type": "execute_result",
          "data": {
            "text/plain": [
              "<bound method CountVectorizer.fit_transform of CountVectorizer(max_features=1500)>"
            ],
            "text/html": [
              "<div style=\"max-width:800px; border: 1px solid var(--colab-border-color);\"><style>\n",
              "      pre.function-repr-contents {\n",
              "        overflow-x: auto;\n",
              "        padding: 8px 12px;\n",
              "        max-height: 500px;\n",
              "      }\n",
              "\n",
              "      pre.function-repr-contents.function-repr-contents-collapsed {\n",
              "        cursor: pointer;\n",
              "        max-height: 100px;\n",
              "      }\n",
              "    </style>\n",
              "    <pre style=\"white-space: initial; background:\n",
              "         var(--colab-secondary-surface-color); padding: 8px 12px;\n",
              "         border-bottom: 1px solid var(--colab-border-color);\"><b>sklearn.feature_extraction.text.CountVectorizer.fit_transform</b><br/>def fit_transform(raw_documents, y=None)</pre><pre class=\"function-repr-contents function-repr-contents-collapsed\" style=\"\"><a class=\"filepath\" style=\"display:none\" href=\"#\">/usr/local/lib/python3.10/dist-packages/sklearn/feature_extraction/text.py</a>Learn the vocabulary dictionary and return document-term matrix.\n",
              "\n",
              "This is equivalent to fit followed by transform, but more efficiently\n",
              "implemented.\n",
              "\n",
              "Parameters\n",
              "----------\n",
              "raw_documents : iterable\n",
              "    An iterable which generates either str, unicode or file objects.\n",
              "\n",
              "y : None\n",
              "    This parameter is ignored.\n",
              "\n",
              "Returns\n",
              "-------\n",
              "X : array of shape (n_samples, n_features)\n",
              "    Document-term matrix.</pre>\n",
              "      <script>\n",
              "      if (google.colab.kernel.accessAllowed && google.colab.files && google.colab.files.view) {\n",
              "        for (const element of document.querySelectorAll('.filepath')) {\n",
              "          element.style.display = 'block'\n",
              "          element.onclick = (event) => {\n",
              "            event.preventDefault();\n",
              "            event.stopPropagation();\n",
              "            google.colab.files.view(element.textContent, 1342);\n",
              "          };\n",
              "        }\n",
              "      }\n",
              "      for (const element of document.querySelectorAll('.function-repr-contents')) {\n",
              "        element.onclick = (event) => {\n",
              "          event.preventDefault();\n",
              "          event.stopPropagation();\n",
              "          element.classList.toggle('function-repr-contents-collapsed');\n",
              "        };\n",
              "      }\n",
              "      </script>\n",
              "      </div>"
            ]
          },
          "metadata": {},
          "execution_count": 32
        }
      ]
    },
    {
      "cell_type": "code",
      "source": [
        "sentences = nltk.sent_tokenize(paragraph)\n",
        "corpus = []\n",
        "for i in range(len(sentences)):\n",
        "\n",
        "  review = re.sub('[^a-zA-Z]', ' ', sentencess[i])\n",
        "  review = review.lower()\n",
        "  review = review.split()\n",
        "  review = [wordnet. lemmatize(word) for word in review if not word in set(stopwords.words('english'))]\n",
        "  review = ' '.join(review)\n",
        "  corpus. append(review)\n",
        "\n",
        "# Creating the TF-IDF model\n",
        "from sklearn.feature_extraction.text import TfidfVectorizer\n",
        "tf = TfidfVectorizer()\n",
        "X = tf.fit_transform(corpus).toarray()\n"
      ],
      "metadata": {
        "id": "5BbMtteERuAp"
      },
      "execution_count": 34,
      "outputs": []
    },
    {
      "cell_type": "code",
      "source": [
        "x"
      ],
      "metadata": {
        "colab": {
          "base_uri": "https://localhost:8080/",
          "height": 186
        },
        "id": "MjFxtUKASxyr",
        "outputId": "9f75d88f-c936-4543-a4db-469729931662"
      },
      "execution_count": 35,
      "outputs": [
        {
          "output_type": "execute_result",
          "data": {
            "text/plain": [
              "<bound method CountVectorizer.fit_transform of CountVectorizer(max_features=1500)>"
            ],
            "text/html": [
              "<div style=\"max-width:800px; border: 1px solid var(--colab-border-color);\"><style>\n",
              "      pre.function-repr-contents {\n",
              "        overflow-x: auto;\n",
              "        padding: 8px 12px;\n",
              "        max-height: 500px;\n",
              "      }\n",
              "\n",
              "      pre.function-repr-contents.function-repr-contents-collapsed {\n",
              "        cursor: pointer;\n",
              "        max-height: 100px;\n",
              "      }\n",
              "    </style>\n",
              "    <pre style=\"white-space: initial; background:\n",
              "         var(--colab-secondary-surface-color); padding: 8px 12px;\n",
              "         border-bottom: 1px solid var(--colab-border-color);\"><b>sklearn.feature_extraction.text.CountVectorizer.fit_transform</b><br/>def fit_transform(raw_documents, y=None)</pre><pre class=\"function-repr-contents function-repr-contents-collapsed\" style=\"\"><a class=\"filepath\" style=\"display:none\" href=\"#\">/usr/local/lib/python3.10/dist-packages/sklearn/feature_extraction/text.py</a>Learn the vocabulary dictionary and return document-term matrix.\n",
              "\n",
              "This is equivalent to fit followed by transform, but more efficiently\n",
              "implemented.\n",
              "\n",
              "Parameters\n",
              "----------\n",
              "raw_documents : iterable\n",
              "    An iterable which generates either str, unicode or file objects.\n",
              "\n",
              "y : None\n",
              "    This parameter is ignored.\n",
              "\n",
              "Returns\n",
              "-------\n",
              "X : array of shape (n_samples, n_features)\n",
              "    Document-term matrix.</pre>\n",
              "      <script>\n",
              "      if (google.colab.kernel.accessAllowed && google.colab.files && google.colab.files.view) {\n",
              "        for (const element of document.querySelectorAll('.filepath')) {\n",
              "          element.style.display = 'block'\n",
              "          element.onclick = (event) => {\n",
              "            event.preventDefault();\n",
              "            event.stopPropagation();\n",
              "            google.colab.files.view(element.textContent, 1342);\n",
              "          };\n",
              "        }\n",
              "      }\n",
              "      for (const element of document.querySelectorAll('.function-repr-contents')) {\n",
              "        element.onclick = (event) => {\n",
              "          event.preventDefault();\n",
              "          event.stopPropagation();\n",
              "          element.classList.toggle('function-repr-contents-collapsed');\n",
              "        };\n",
              "      }\n",
              "      </script>\n",
              "      </div>"
            ]
          },
          "metadata": {},
          "execution_count": 35
        }
      ]
    },
    {
      "cell_type": "code",
      "source": [],
      "metadata": {
        "id": "mEtsjsSeTE1D"
      },
      "execution_count": null,
      "outputs": []
    }
  ]
}